{
 "cells": [
  {
   "cell_type": "code",
   "execution_count": 1,
   "metadata": {},
   "outputs": [],
   "source": [
    "# Import libraries\n",
    "import pandas as pd\n",
    "import numpy as np\n",
    "import networkx as nx  \n",
    "import json\n",
    "import random\n",
    "import matplotlib.pyplot as plt\n",
    "from mlxtend.preprocessing import TransactionEncoder\n",
    "from mlxtend.frequent_patterns import apriori, association_rules"
   ]
  },
  {
   "cell_type": "code",
   "execution_count": 6,
   "metadata": {},
   "outputs": [
    {
     "name": "stdout",
     "output_type": "stream",
     "text": [
      "italian\n",
      "irish\n",
      "filipino\n",
      "cajun_creole\n",
      "mexican\n",
      "indian\n",
      "moroccan\n",
      "korean\n",
      "jamaican\n",
      "british\n",
      "french\n",
      "chinese\n",
      "vietnamese\n",
      "thai\n",
      "japanese\n",
      "brazilian\n",
      "spanish\n",
      "greek\n",
      "southern_us\n",
      "russian\n"
     ]
    }
   ],
   "source": [
    "# read in JSON into array of arrays\n",
    "dataset = []\n",
    "cuisines = []\n",
    "with open('train.json') as json_file:\n",
    "    data = json.load(json_file)\n",
    "    for recipe in data:\n",
    "        cuisines.append(recipe['cuisine'])\n",
    "        dataset.append(recipe['ingredients'])\n",
    "# for recipe in dataset:\n",
    "#     print(recipe)\n",
    "\n",
    "cuisine_set = set(cuisines)\n",
    "unique_cuisines = list(cuisine_set)\n",
    "\n",
    "for cuisine in unique_cuisines:\n",
    "    print(cuisine)"
   ]
  },
  {
   "cell_type": "code",
   "execution_count": null,
   "metadata": {},
   "outputs": [],
   "source": [
    "def create"
   ]
  }
 ],
 "metadata": {
  "kernelspec": {
   "display_name": "Python 3",
   "language": "python",
   "name": "python3"
  },
  "language_info": {
   "codemirror_mode": {
    "name": "ipython",
    "version": 3
   },
   "file_extension": ".py",
   "mimetype": "text/x-python",
   "name": "python",
   "nbconvert_exporter": "python",
   "pygments_lexer": "ipython3",
   "version": "3.7.3"
  }
 },
 "nbformat": 4,
 "nbformat_minor": 2
}
