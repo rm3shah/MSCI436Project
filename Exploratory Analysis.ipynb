{
 "cells": [
  {
   "cell_type": "code",
   "execution_count": null,
   "metadata": {},
   "outputs": [],
   "source": [
    "import pandas as pd\n",
    "import numpy as np\n",
    "import matplotlib.pyplot as plt\n",
    "from collections import Counter\n",
    "\n",
    "# Plot Style\n",
    "plt.style.use(u'ggplot')\n",
    "\n",
    "# Read in training Data File\n",
    "# Fields are cuisine, id, ingredients\n",
    "train = pd.read_json(\"C:./data/train.json\")\n",
    "\n",
    "# Find Cuisine Distribution\n",
    "cuisine_distribution = Counter(train.cuisine)\n",
    "\n",
    "# Plot Cuisine Distribution\n",
    "cuisine_fig = pd.DataFrame(cuisine_distribution, index=[0]).transpose()[0].plot(kind='barh')\n",
    "cuisine_fig.invert_yaxis()\n",
    "cuisine_fig = cuisine_fig.get_figure()\n",
    "cuisine_fig.tight_layout()\n",
    "cuisine_fig.savefig(\"Cuisine_Distribution.jpg\")\n",
    "\n",
    "# Find Ingredient Distribution\n",
    "recipe_ingredient = [Counter(recipe) for recipe in train.ingredients]\n",
    "ingredient_distribution = sum(recipe_ingredient, Counter())\n",
    "\n",
    "# Plot Ingredient Distribution\n",
    "ingredient_fig = pd.DataFrame(ingredient_distribution, index=[0]).transpose()[0][:20].plot(kind='barh')\n",
    "ingredient_fig.invert_yaxis()\n",
    "ingredient_fig = ingredient_fig.get_figure()\n",
    "ingredient_fig.tight_layout()\n",
    "ingredient_fig.savefig(\"Ingredient_Distribution.jpg\")"
   ]
  },
  {
   "cell_type": "code",
   "execution_count": null,
   "metadata": {},
   "outputs": [],
   "source": []
  }
 ],
 "metadata": {
  "kernelspec": {
   "display_name": "Python 3",
   "language": "python",
   "name": "python3"
  },
  "language_info": {
   "codemirror_mode": {
    "name": "ipython",
    "version": 3
   },
   "file_extension": ".py",
   "mimetype": "text/x-python",
   "name": "python",
   "nbconvert_exporter": "python",
   "pygments_lexer": "ipython3",
   "version": "3.7.3"
  }
 },
 "nbformat": 4,
 "nbformat_minor": 2
}
