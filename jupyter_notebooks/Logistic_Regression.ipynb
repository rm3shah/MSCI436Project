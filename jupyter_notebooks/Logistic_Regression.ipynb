{
 "cells": [
  {
   "cell_type": "code",
   "execution_count": 1,
   "metadata": {},
   "outputs": [],
   "source": [
    "# import libraries\n",
    "import pandas as pd\n",
    "import nltk\n",
    "import re\n",
    "import csv\n",
    "from nltk.stem import WordNetLemmatizer\n",
    "from sklearn.metrics import classification_report, accuracy_score\n",
    "from sklearn.feature_extraction.text import TfidfVectorizer\n",
    "from sklearn.model_selection import GridSearchCV, train_test_split\n",
    "from sklearn.linear_model import LogisticRegression"
   ]
  },
  {
   "cell_type": "code",
   "execution_count": 2,
   "metadata": {},
   "outputs": [],
   "source": [
    "def lemmatize_data(train, test):\n",
    "    # lemmatize ingredients  \n",
    "    train['ingredients_string'] = [' '.join([WordNetLemmatizer().lemmatize(re.sub('[^A-Za-z]', ' ', line)) for line in lists]).strip() for lists in train['ingredients']]       \n",
    "    test['ingredients_string'] = [' '.join([WordNetLemmatizer().lemmatize(re.sub('[^A-Za-z]', ' ', line)) for line in lists]).strip() for lists in test['ingredients']]  "
   ]
  },
  {
   "cell_type": "code",
   "execution_count": 3,
   "metadata": {},
   "outputs": [],
   "source": [
    "def preprocessing():\n",
    "    # split data into training and testing dataset\n",
    "    data = pd.read_json(\"../data/train.json\")\n",
    "    train, test = train_test_split(data, test_size=0.2, random_state=4381)\n",
    "    \n",
    "    # ground truth\n",
    "    true_val = test['cuisine']\n",
    "    \n",
    "    # call function to clean data\n",
    "    lemmatize_data(train, test)\n",
    "\n",
    "    return train, test, true_val"
   ]
  },
  {
   "cell_type": "code",
   "execution_count": 4,
   "metadata": {},
   "outputs": [],
   "source": [
    "def vectorize(train, test):\n",
    "    # create corpa based clean data\n",
    "    train_corpus = train['ingredients_string']\n",
    "    test_corpus = test['ingredients_string']\n",
    "    \n",
    "    # convert ingredients to matrix of TF-IDF features\n",
    "    # ngram_range = # of words in a sequence\n",
    "    # max_df = max document frequency, ignore words that exceed this frequency\n",
    "    # token pattern = regexp used, mandatory if analyzer='word'\n",
    "    vectorizer = TfidfVectorizer(stop_words='english', ngram_range = ( 1 , 1 ),analyzer=\"word\", max_df = .5, token_pattern=r'\\w+')\n",
    "\n",
    "    # return document term matrices fit on respective corpa\n",
    "    train_tfidf = vectorizer.fit_transform(train_corpus).todense()\n",
    "    test_tfidf = vectorizer.transform(test_corpus)\n",
    "    \n",
    "    return train_tfidf, test_tfidf"
   ]
  },
  {
   "cell_type": "code",
   "execution_count": 5,
   "metadata": {},
   "outputs": [],
   "source": [
    "def logistic_regression(train_predictor, train_target, test_predictor, true_val):\n",
    "    model = LogisticRegression()\n",
    "\n",
    "    # process exhaustive search over specified parameter values for the model\n",
    "    # do for num_folds\n",
    "    num_folds = 10\n",
    "    parameters = {'C':[1, 10]}\n",
    "    classifier = GridSearchCV(model, parameters, cv=num_folds)\n",
    "\n",
    "    # fit classification model to data\n",
    "    classifier = classifier.fit(train_predictor,train_target)\n",
    "\n",
    "    # make prediction\n",
    "    prediction = classifier.predict(test_predictor)\n",
    "    \n",
    "    # test model accuracy\n",
    "    print(accuracy_score(true_val, prediction))\n",
    "    print(classification_report(true_val, prediction))\n",
    "\n",
    "    # create confusion matrix\n",
    "    with open('confusion_matrix.csv', 'w') as f:\n",
    "        f.write(np.array2string(confusion_matrix(true_val, prediction), separator=', '))"
   ]
  },
  {
   "cell_type": "code",
   "execution_count": null,
   "metadata": {},
   "outputs": [
    {
     "name": "stderr",
     "output_type": "stream",
     "text": [
      "C:\\Users\\Remi\\Anaconda3\\lib\\site-packages\\ipykernel_launcher.py:3: SettingWithCopyWarning: \n",
      "A value is trying to be set on a copy of a slice from a DataFrame.\n",
      "Try using .loc[row_indexer,col_indexer] = value instead\n",
      "\n",
      "See the caveats in the documentation: http://pandas.pydata.org/pandas-docs/stable/indexing.html#indexing-view-versus-copy\n",
      "  This is separate from the ipykernel package so we can avoid doing imports until\n"
     ]
    }
   ],
   "source": [
    "# run all functions\n",
    "train, test, true_val = preprocessing()\n",
    "train_predictor, test_predictor = vectorize(train, test)\n",
    "train_target = train['cuisine']\n",
    "logistic_regression(train_predictor, train_target, test_predictor, true_val)"
   ]
  },
  {
   "cell_type": "code",
   "execution_count": null,
   "metadata": {},
   "outputs": [],
   "source": []
  }
 ],
 "metadata": {
  "kernelspec": {
   "display_name": "Python 3",
   "language": "python",
   "name": "python3"
  },
  "language_info": {
   "codemirror_mode": {
    "name": "ipython",
    "version": 3
   },
   "file_extension": ".py",
   "mimetype": "text/x-python",
   "name": "python",
   "nbconvert_exporter": "python",
   "pygments_lexer": "ipython3",
   "version": "3.7.3"
  }
 },
 "nbformat": 4,
 "nbformat_minor": 2
}
