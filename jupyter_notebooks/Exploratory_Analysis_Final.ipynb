{
 "cells": [
  {
   "cell_type": "code",
   "execution_count": 1,
   "metadata": {},
   "outputs": [
    {
     "ename": "NameError",
     "evalue": "name 'train' is not defined",
     "output_type": "error",
     "traceback": [
      "\u001b[1;31m---------------------------------------------------------------------------\u001b[0m",
      "\u001b[1;31mNameError\u001b[0m                                 Traceback (most recent call last)",
      "\u001b[1;32m<ipython-input-1-f1f554252fd5>\u001b[0m in \u001b[0;36m<module>\u001b[1;34m\u001b[0m\n\u001b[0;32m     14\u001b[0m \u001b[1;31m#Most Common Ingredients\u001b[0m\u001b[1;33m\u001b[0m\u001b[1;33m\u001b[0m\u001b[1;33m\u001b[0m\u001b[0m\n\u001b[0;32m     15\u001b[0m \u001b[1;33m\u001b[0m\u001b[0m\n\u001b[1;32m---> 16\u001b[1;33m \u001b[0mingr_ind\u001b[0m \u001b[1;33m=\u001b[0m \u001b[0mCounter\u001b[0m\u001b[1;33m(\u001b[0m\u001b[1;33m[\u001b[0m\u001b[0mingredient\u001b[0m \u001b[1;32mfor\u001b[0m \u001b[0mingredient_list\u001b[0m \u001b[1;32min\u001b[0m \u001b[0mtrain\u001b[0m\u001b[1;33m.\u001b[0m\u001b[0mingredients\u001b[0m \u001b[1;32mfor\u001b[0m \u001b[0mingredient\u001b[0m \u001b[1;32min\u001b[0m \u001b[0mingredient_list\u001b[0m\u001b[1;33m]\u001b[0m\u001b[1;33m)\u001b[0m\u001b[1;33m\u001b[0m\u001b[1;33m\u001b[0m\u001b[0m\n\u001b[0m\u001b[0;32m     17\u001b[0m \u001b[0mingr_ind\u001b[0m \u001b[1;33m=\u001b[0m \u001b[0mpd\u001b[0m\u001b[1;33m.\u001b[0m\u001b[0mDataFrame\u001b[0m\u001b[1;33m.\u001b[0m\u001b[0mfrom_dict\u001b[0m\u001b[1;33m(\u001b[0m\u001b[0mingr_ind\u001b[0m\u001b[1;33m,\u001b[0m\u001b[0morient\u001b[0m\u001b[1;33m=\u001b[0m\u001b[1;34m'index'\u001b[0m\u001b[1;33m)\u001b[0m\u001b[1;33m.\u001b[0m\u001b[0mreset_index\u001b[0m\u001b[1;33m(\u001b[0m\u001b[1;33m)\u001b[0m\u001b[1;33m\u001b[0m\u001b[1;33m\u001b[0m\u001b[0m\n\u001b[0;32m     18\u001b[0m \u001b[0mingr_ind\u001b[0m \u001b[1;33m=\u001b[0m \u001b[0mingr_ind\u001b[0m\u001b[1;33m.\u001b[0m\u001b[0mrename\u001b[0m\u001b[1;33m(\u001b[0m\u001b[0mcolumns\u001b[0m\u001b[1;33m=\u001b[0m\u001b[1;33m{\u001b[0m\u001b[1;34m'index'\u001b[0m\u001b[1;33m:\u001b[0m\u001b[1;34m'Ingredient'\u001b[0m\u001b[1;33m,\u001b[0m \u001b[1;36m0\u001b[0m\u001b[1;33m:\u001b[0m\u001b[1;34m'Count'\u001b[0m\u001b[1;33m}\u001b[0m\u001b[1;33m)\u001b[0m\u001b[1;33m\u001b[0m\u001b[1;33m\u001b[0m\u001b[0m\n",
      "\u001b[1;31mNameError\u001b[0m: name 'train' is not defined"
     ]
    }
   ],
   "source": [
    "import pandas as pd\n",
    "import numpy as np\n",
    "import matplotlib.pyplot as plt\n",
    "from collections import Counter\n",
    "import seaborn as sns\n",
    "sns.set_context('talk')\n",
    "\n",
    "# Plot Style\n",
    "plt.style.use(u'ggplot')\n",
    "\n",
    "# Read in training Data File\n",
    "df = pd.read_json(\"../data/train.json\")\n",
    "\n",
    "# Most Common Ingredients\n",
    "\n",
    "ingr_ind = Counter([ingredient for ingredient_list in df.ingredients for ingredient in ingredient_list])\n",
    "ingr_ind = pd.DataFrame.from_dict(ingr_ind,orient='index').reset_index()\n",
    "ingr_ind = ingr_ind.rename(columns={'index':'Ingredient', 0:'Count'})\n",
    "\n",
    "\n",
    "# Plot Cuisine Distribution\n",
    "f, ax = plt.subplots(figsize=(15,13))\n",
    "sns.countplot(y = 'cuisine', \n",
    "                   data = df,\n",
    "                  order = df.cuisine.value_counts(ascending=False).index,\n",
    "             palette = \"RdBu\")\n",
    "\n",
    "# Plot Ingredient Distribution\n",
    "f, ax = plt.subplots(figsize=(13,10))\n",
    "sns.barplot(x = 'Count', \n",
    "            y = 'Ingredient',\n",
    "            data = ingr_ind.sort_values('Count', ascending=False).head(20),\n",
    "           palette=\"RdBu\")\n",
    "\n",
    "\n"
   ]
  },
  {
   "cell_type": "code",
   "execution_count": null,
   "metadata": {},
   "outputs": [],
   "source": [
    "#Least Common Ingredients\n",
    "\n",
    "ingr_ind = Counter([ingredient for ingredient_list in train.ingredients for ingredient in ingredient_list])\n",
    "ingr_ind = pd.DataFrame.from_dict(ingr_ind,orient='index').reset_index()\n",
    "ingr_ind = ingr_ind.rename(columns={'index':'Ingredient', 0:'Count'})\n",
    "ingr_ind.sort_values('Count', ascending=True).head(20)"
   ]
  },
  {
   "cell_type": "code",
   "execution_count": null,
   "metadata": {},
   "outputs": [],
   "source": [
    "#Plot Ingredient Count\n",
    "import pandas as pd\n",
    "import numpy as np\n",
    "import matplotlib.pyplot as plt\n",
    "import seaborn as sns\n",
    "sns.set_context('talk')\n",
    "\n",
    "f, ax = plt.subplots(figsize=(32,15))\n",
    "sns.boxplot(x='cuisine',\n",
    "            y='number_ingredients',\n",
    "            data= (pd.concat([train.cuisine,train.ingredients.map(lambda l: len(l))], axis=1)\n",
    "                    .rename(columns={'ingredients':'number_ingredients'})),\n",
    "            palette=\"Blues\"\n",
    "            )\n",
    "\n"
   ]
  },
  {
   "cell_type": "code",
   "execution_count": null,
   "metadata": {},
   "outputs": [],
   "source": [
    "import pandas as pd\n",
    "import numpy as np\n",
    "\n",
    "df = pd.read_json(\"C:/Users/chloe/Desktop/3B/MSCI436Project/train.json\", orient='records')\n",
    "\n",
    "#print number of records\n",
    "print(\"Number of records: {0}\".format(len(df.id)))\n",
    "print(\"---\")\n",
    "# printing cuisine types and counts\n",
    "print(\"Percent of data from each cusine:\")\n",
    "\n",
    "print(df.cuisine.value_counts(normalize=True))\n",
    "print(\"---\")\n",
    "print(\"Number of cuisine types: {0}\".format(len(df.cuisine.value_counts())))\n",
    "print(\"---\")\n",
    "print(\"Number of unique ingredients: {0}\".format(len(set([ingredient for ingredient_list in df.ingredients.values for ingredient in ingredient_list]))))"
   ]
  },
  {
   "cell_type": "code",
   "execution_count": null,
   "metadata": {},
   "outputs": [],
   "source": []
  }
 ],
 "metadata": {
  "kernelspec": {
   "display_name": "Python 3",
   "language": "python",
   "name": "python3"
  },
  "language_info": {
   "codemirror_mode": {
    "name": "ipython",
    "version": 3
   },
   "file_extension": ".py",
   "mimetype": "text/x-python",
   "name": "python",
   "nbconvert_exporter": "python",
   "pygments_lexer": "ipython3",
   "version": "3.7.3"
  }
 },
 "nbformat": 4,
 "nbformat_minor": 2
}
