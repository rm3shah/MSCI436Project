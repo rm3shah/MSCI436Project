{
 "cells": [
  {
   "cell_type": "markdown",
   "metadata": {},
   "source": [
    "#K-Means Clustering"
   ]
  },
  {
   "cell_type": "code",
   "execution_count": 51,
   "metadata": {},
   "outputs": [],
   "source": [
    "import numpy as np\n",
    "import pandas as pd\n",
    "\n",
    "import matplotlib.pyplot as plt\n",
    "\n",
    "import sklearn\n",
    "from sklearn.feature_extraction.text import TfidfVectorizer\n",
    "\n",
    "# from pandas import DataFrame\n",
    "# from sklearn.cluster import KMeans\n",
    "# from mpl_toolkits.mplot3d import Axes3D\n",
    "# from sklearn.preprocessing import scale\n",
    "# import sklearn.metrics as sm\n",
    "# from sklearn import datasets\n",
    "# from sklearn.metrics import confusion_matrix, classification_report"
   ]
  },
  {
   "cell_type": "code",
   "execution_count": 62,
   "metadata": {},
   "outputs": [
    {
     "data": {
      "text/plain": [
       "0               greek\n",
       "1         southern_us\n",
       "2            filipino\n",
       "3              indian\n",
       "4              indian\n",
       "5            jamaican\n",
       "6             spanish\n",
       "7             italian\n",
       "8             mexican\n",
       "9             italian\n",
       "10            italian\n",
       "11            chinese\n",
       "12            italian\n",
       "13            mexican\n",
       "14            italian\n",
       "15             indian\n",
       "16            british\n",
       "17            italian\n",
       "18               thai\n",
       "19         vietnamese\n",
       "20               thai\n",
       "21            mexican\n",
       "22        southern_us\n",
       "23            chinese\n",
       "24            italian\n",
       "25            chinese\n",
       "26       cajun_creole\n",
       "27            italian\n",
       "28            chinese\n",
       "29            mexican\n",
       "             ...     \n",
       "39744           greek\n",
       "39745         spanish\n",
       "39746          indian\n",
       "39747        moroccan\n",
       "39748         italian\n",
       "39749         mexican\n",
       "39750         mexican\n",
       "39751        moroccan\n",
       "39752     southern_us\n",
       "39753         italian\n",
       "39754      vietnamese\n",
       "39755          indian\n",
       "39756         mexican\n",
       "39757           greek\n",
       "39758           greek\n",
       "39759          korean\n",
       "39760     southern_us\n",
       "39761         chinese\n",
       "39762          indian\n",
       "39763         italian\n",
       "39764         mexican\n",
       "39765          indian\n",
       "39766           irish\n",
       "39767         italian\n",
       "39768         mexican\n",
       "39769           irish\n",
       "39770         italian\n",
       "39771           irish\n",
       "39772         chinese\n",
       "39773         mexican\n",
       "Name: cuisine, Length: 39774, dtype: object"
      ]
     },
     "execution_count": 62,
     "metadata": {},
     "output_type": "execute_result"
    }
   ],
   "source": [
    "# read in JSON to dataframe\n",
    "with open('../data/train.json') as json_file:\n",
    "    recipes = pd.read_json(json_file, orient='columns')\n",
    "    \n",
    "recipes.cuisine"
   ]
  },
  {
   "cell_type": "code",
   "execution_count": 75,
   "metadata": {},
   "outputs": [
    {
     "data": {
      "text/plain": [
       "matrix([[1., 0., 0.],\n",
       "        [0., 1., 0.],\n",
       "        [0., 0., 1.]])"
      ]
     },
     "execution_count": 75,
     "metadata": {},
     "output_type": "execute_result"
    }
   ],
   "source": [
    "vectorizer = TfidfVectorizer()\n",
    "matrix = vectorizer.fit_transform(recipes)\n",
    "# matrix.toarray()\n",
    "matrix.todense()"
   ]
  },
  {
   "cell_type": "code",
   "execution_count": null,
   "metadata": {},
   "outputs": [],
   "source": []
  }
 ],
 "metadata": {
  "kernelspec": {
   "display_name": "Python 3",
   "language": "python",
   "name": "python3"
  },
  "language_info": {
   "codemirror_mode": {
    "name": "ipython",
    "version": 3
   },
   "file_extension": ".py",
   "mimetype": "text/x-python",
   "name": "python",
   "nbconvert_exporter": "python",
   "pygments_lexer": "ipython3",
   "version": "3.7.3"
  }
 },
 "nbformat": 4,
 "nbformat_minor": 2
}
